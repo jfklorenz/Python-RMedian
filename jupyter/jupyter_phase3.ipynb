{
 "cells": [
  {
   "cell_type": "markdown",
   "metadata": {},
   "source": [
    "RMedian : Phase 3 / Clean Up Phase"
   ]
  },
  {
   "cell_type": "code",
   "execution_count": 5,
   "metadata": {},
   "outputs": [],
   "source": [
    "import math\n",
    "import random\n",
    "import statistics"
   ]
  },
  {
   "cell_type": "markdown",
   "metadata": {},
   "source": [
    "Testfälle :"
   ]
  },
  {
   "cell_type": "code",
   "execution_count": 6,
   "metadata": {},
   "outputs": [
    {
     "name": "stdout",
     "output_type": "stream",
     "text": [
      "L : [[28, 29], [26, 27], [24, 25], [22, 23], [20, 21], [18, 19], [16, 17], [14, 15], [12, 13], [10, 11], [8, 9], [6, 7], [4, 5], [2, 3], [0, 1]]\n",
      "C : [30, 31, 32, 33, 34, 35, 36, 37, 38, 39, 40, 41, 42, 43, 44, 45, 46, 47, 48, 49, 50, 51, 52, 53, 54, 55, 56, 57, 58, 59, 60, 61, 62, 63, 64, 65, 66, 67, 68, 69, 70]\n",
      "R : [[71, 72], [73, 74], [75, 76], [77, 78], [79, 80], [81, 82], [83, 84], [85, 86], [87, 88], [89, 90], [91, 92], [93, 94], [95, 96], [97, 98], [99, 100], [101, 102], [103, 104], [105, 106], [107, 108], [109, 110]]\n"
     ]
    }
   ],
   "source": [
    "# User input\n",
    "testcase = 3\n",
    "\n",
    "# Automatic\n",
    "X = [i for i in range(101)]\n",
    "cnt = [0 for _ in range(101)]\n",
    "\n",
    "# ------------------------------------------------------------\n",
    "# Testcase 1 : Det -  max(sumL, sumR) > n/2\n",
    "# Unlabanced\n",
    "if testcase == 1:\n",
    "    X = [i for i in range(101)]\n",
    "    L = [[i, i+1] for i in reversed(range(0, 21, 2))]\n",
    "    C = [i for i in range(21, 28)]\n",
    "    R = [[i, i+1] for i in range(28, 100, 2)]\n",
    "\n",
    "# ------------------------------------------------------------\n",
    "# Testcase 2 : AKS - |C| < log(n)\n",
    "elif testcase == 2:\n",
    "    X = [i for i in range(101)]\n",
    "    L = [[i, i+1] for i in reversed(range(0, 48, 2))]\n",
    "    C = [i for i in range(48, 53)]\n",
    "    R = [[i, i+1] for i in range(53, 100, 2)]\n",
    "    \n",
    "# ------------------------------------------------------------\n",
    "# Testcase 3 : Rek - Neither\n",
    "elif testcase == 3:\n",
    "    L = [[i, i+1] for i in reversed(range(0, 30, 2))]\n",
    "    C = [i for i in range(30, 71)]\n",
    "    R = [[i, i+1] for i in range(71, 110, 2)]\n",
    "# ------------------------------------------------------------\n",
    "lc = len(C)\n",
    "# ------------------------------------------------------------\n",
    "# Show Testcase\n",
    "print('L :', L)\n",
    "print('C :', C)\n",
    "print('R :', R)"
   ]
  },
  {
   "cell_type": "markdown",
   "metadata": {},
   "source": [
    "Algorithmus : Phase 3"
   ]
  },
  {
   "cell_type": "code",
   "execution_count": 11,
   "metadata": {},
   "outputs": [
    {
     "name": "stdout",
     "output_type": "stream",
     "text": [
      "40\n",
      "30\n"
     ]
    }
   ],
   "source": [
    "def phase3(X, L, C, R, cnt):\n",
    "    res = 'error'\n",
    "    n = len(X)\n",
    "\n",
    "    sumL, sumR = 0, 0\n",
    "    for l in L:\n",
    "        sumL += len(l)\n",
    "    for r in R:\n",
    "        sumR += len(r)\n",
    "    \n",
    "    s = sumL - sumR\n",
    "        \n",
    "    #   Det Median\n",
    "    if max(sumL, sumR) > n/2:\n",
    "        res = 'DET'\n",
    "        if len(X) % 2 == 0:\n",
    "            return (X[int(len(X)/2 - 1)] + X[int(len(X)/2)]) / 2, cnt, res, s\n",
    "        else:\n",
    "            return X[int(len(X) / 2 - 0.5)], cnt, res, s\n",
    "\n",
    "    #   AKS\n",
    "    if len(C) < math.log(n) / math.log(2):\n",
    "        res = 'AKS'\n",
    "        C.sort()\n",
    "        if len(C) % 2 == 0:\n",
    "            return (C[int(len(C)/2 - 1)] + C[int(len(C)/2)]) / 2, cnt, res, s\n",
    "        else:\n",
    "            return C[int(len(C) / 2 - 0.5)], cnt, res, s\n",
    "\n",
    "    print(sumR)\n",
    "    \n",
    "    #   Expand\n",
    "    if s < 0:\n",
    "        rs = []\n",
    "        for r in R:\n",
    "            rs += r\n",
    "        random.shuffle(rs)\n",
    "        for i in range(-s):\n",
    "            C.append(rs[i])\n",
    "            for r in R:\n",
    "                if rs[i] in r:\n",
    "                    r.remove(rs[i])\n",
    "    else:\n",
    "        ls = []\n",
    "        for l in L:\n",
    "            ls += l\n",
    "        random.shuffle(ls)\n",
    "        for i in range(s):\n",
    "            C.append(ls[i])\n",
    "            for l in L:\n",
    "                if ls[i] in l:\n",
    "                    l.remove(ls[i])\n",
    "\n",
    "    res = 'Expand'\n",
    "    \n",
    "    return -1, cnt, res, s\n",
    "\n",
    "# Testfall\n",
    "med, cnt, res, s = phase3(X, L, C, R, cnt)"
   ]
  },
  {
   "cell_type": "markdown",
   "metadata": {},
   "source": [
    "Resultat :"
   ]
  },
  {
   "cell_type": "code",
   "execution_count": 9,
   "metadata": {},
   "outputs": [
    {
     "name": "stdout",
     "output_type": "stream",
     "text": [
      "\n",
      "Testfall:\n",
      "=======================================\n",
      "|X| / |L| / |C| / |R| : 101 / 30 / 51 / 30\n",
      "=======================================\n",
      "Case          : Expand\n",
      "SumL - SumR   : -10\n",
      "|C| / |C_new| : 41 / 51\n",
      "---------------------------------------\n",
      "Algo / Median : -1 / 50\n",
      "=======================================\n",
      "max(cnt)      : 0\n",
      "=======================================\n"
     ]
    }
   ],
   "source": [
    "def test(X, L, C, R, lc, med, cnt, res, s):\n",
    "    n, l, c, r, sumL, sumR, mx = len(X), len(L), len(C), len(R), 0, 0, max(cnt)\n",
    "    m = statistics.median(X)\n",
    "\n",
    "    for i in range(len(L)):\n",
    "        sumL += len(L[i])\n",
    "        sumR += len(R[i])\n",
    "\n",
    "    print('')\n",
    "    print('Testfall:')\n",
    "    print('=======================================')\n",
    "    print('|X| / |L| / |C| / |R| :', n, '/', sumL, '/', c, '/', sumR)\n",
    "    print('=======================================')\n",
    "    print('Case          :', res)\n",
    "    print('SumL - SumR   :', s)\n",
    "    print('|C| / |C_new| :', lc, '/', len(C))\n",
    "    print('---------------------------------------')\n",
    "    print('Algo / Median :', med, '/', m)\n",
    "    print('=======================================')\n",
    "    print('max(cnt)      :', mx)\n",
    "    \n",
    "    print('=======================================')\n",
    "    return\n",
    "\n",
    "# Testfall\n",
    "test(X, L, C, R, lc, med, cnt, res, s)"
   ]
  },
  {
   "cell_type": "code",
   "execution_count": null,
   "metadata": {},
   "outputs": [],
   "source": []
  },
  {
   "cell_type": "code",
   "execution_count": null,
   "metadata": {},
   "outputs": [],
   "source": []
  },
  {
   "cell_type": "code",
   "execution_count": null,
   "metadata": {},
   "outputs": [],
   "source": []
  }
 ],
 "metadata": {
  "kernelspec": {
   "display_name": "Python 3",
   "language": "python",
   "name": "python3"
  },
  "language_info": {
   "codemirror_mode": {
    "name": "ipython",
    "version": 3
   },
   "file_extension": ".py",
   "mimetype": "text/x-python",
   "name": "python",
   "nbconvert_exporter": "python",
   "pygments_lexer": "ipython3",
   "version": "3.6.5"
  }
 },
 "nbformat": 4,
 "nbformat_minor": 2
}
