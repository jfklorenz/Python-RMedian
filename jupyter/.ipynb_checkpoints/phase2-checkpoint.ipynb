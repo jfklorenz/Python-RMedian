{
 "cells": [
  {
   "cell_type": "markdown",
   "metadata": {},
   "source": [
    "RMedian : Phase 2 / Probing Phase"
   ]
  },
  {
   "cell_type": "code",
   "execution_count": 63,
   "metadata": {},
   "outputs": [],
   "source": [
    "import random"
   ]
  },
  {
   "cell_type": "markdown",
   "metadata": {},
   "source": [
    "Testfälle:"
   ]
  },
  {
   "cell_type": "code",
   "execution_count": 64,
   "metadata": {},
   "outputs": [
    {
     "name": "stdout",
     "output_type": "stream",
     "text": [
      "\n",
      "X : [0, 1, 2, 3, 4, 5, 6, 7, 8, 9, 10, 11, 12, 13, 14, 15, 16, 17, 18, 19, 20, 21, 22, 23, 24, 25, 26, 27, 28, 29, 30, 31, 32, 33, 34, 35, 36, 37, 38, 39]\n",
      "---\n",
      "S : [0, 2, 4, 6, 8, 10, 12, 14, 16, 18, 20, 22, 24, 26, 28, 30, 32, 34, 36, 38]\n",
      "XS : [1, 3, 5, 7, 9, 11, 13, 15, 17, 19, 21, 23, 25, 27, 29, 31, 33, 35, 37, 39]\n",
      "---\n",
      "L : [[12], [10], [8], [6], [4], [2], [0]]\n",
      "C : [14, 16, 18, 20, 22]\n",
      "R : [[24], [26], [28], [30], [32], [34], [36], [38]]\n"
     ]
    }
   ],
   "source": [
    "# User input:   Distance from n/2 for C, |C| = 2*r, Testcases: 0 ~ user input\n",
    "n = 40\n",
    "r = 5\n",
    "\n",
    "test = 0\n",
    "\n",
    "# ------------------------------------------------------------\n",
    "# Automatic\n",
    "X = [i for i in range(n)]\n",
    "cnt = [0 for i in range(n)]\n",
    "S = [i for i in range(0, n, 2)]\n",
    "XS = [i + 1 for i in range(0, n, 2)]\n",
    "C = []\n",
    "for i in range(0, 2*r, 2):\n",
    "    C.append(int(n/2) - r + i - 1)\n",
    "L = [[i] for i in reversed(range(0, int(n/2) - r - 1, 2))]\n",
    "R = [[i] for i in range(int(n/2) + r - 1, n, 2)]\n",
    "\n",
    "# ------------------------------------------------------------\n",
    "# Testcase 1\n",
    "if test == 1:\n",
    "    X = [i for i in range(38)]\n",
    "    S = [2*i for i in range(19)]\n",
    "    XS = [2*i + 1 for i in range(19)]\n",
    "    L = [[14, 12], [10, 8], [6, 4], [2, 0]]\n",
    "    C = [16, 18, 20]\n",
    "    R = [[22, 24], [26, 28], [30, 32], [34, 36]]\n",
    "\n",
    "# ------------------------------------------------------------\n",
    "# Testcase 2\n",
    "elif test == 2:\n",
    "    X = [i for i in range(38)]\n",
    "    S = [2*i for i in range(19)]\n",
    "    XS = [2*i + 1 for i in range(19)]\n",
    "    L = [[14], [12], [10], [8], [6], [4], [2], [0]]\n",
    "    C = [16, 18, 20]\n",
    "    R = [[22], [24], [26], [28], [30], [32], [34], [36]]\n",
    "\n",
    "# ------------------------------------------------------------\n",
    "print('')\n",
    "print('X :', X)\n",
    "print('---')\n",
    "print('S :', S)\n",
    "print('XS :', XS)\n",
    "print('---')\n",
    "print('L :', L)\n",
    "print('C :', C)\n",
    "print('R :', R)"
   ]
  },
  {
   "cell_type": "markdown",
   "metadata": {},
   "source": [
    "Algorithmus : Phase 2"
   ]
  },
  {
   "cell_type": "code",
   "execution_count": 66,
   "metadata": {},
   "outputs": [],
   "source": [
    "def phase2(S, XS, L, C, R, cnt):\n",
    "    mark = [False for _ in range(len(XS)+len(S))]\n",
    "    b = len(L)\n",
    "    random.shuffle(XS)\n",
    "    for x_i in XS:\n",
    "        med = True\n",
    "        for j in reversed(range(0, b - 1)):\n",
    "\n",
    "            current = 2**50\n",
    "            random.shuffle(L[j])\n",
    "            for l in L[j]:\n",
    "                if cnt[l] < current:\n",
    "                    x_A = l\n",
    "\n",
    "            if mark[x_A] == True:\n",
    "                c = 1\n",
    "            else:\n",
    "                c = 2\n",
    "\n",
    "            cnt[x_i] += 1\n",
    "            if x_i < x_A:\n",
    "                if j + c < b:\n",
    "                    mark[x_i] = True\n",
    "                    L[j + c].append(x_i)\n",
    "                med = False\n",
    "                break\n",
    "\n",
    "            current2 = 2**50\n",
    "            random.shuffle(R[j])\n",
    "            for r in R[j]:\n",
    "                if cnt[r] < current2:\n",
    "                    x_B = r\n",
    "\n",
    "            if mark[x_B] == True:\n",
    "                c = 1\n",
    "            else:\n",
    "                c = 2\n",
    "\n",
    "            cnt[x_i] += 1\n",
    "            if x_i > x_B:\n",
    "                if j + c < b:\n",
    "                    mark[x_i] = True\n",
    "                    R[j + c].append(x_i)\n",
    "                med = False\n",
    "                break\n",
    "        if med:\n",
    "            C.append(x_i)\n",
    "\n",
    "    return S, XS, L, C, R, cnt\n",
    "\n",
    "# Testfall\n",
    "S, XS, L, C, R, cnt = phase2(S, XS, L, C, R, cnt)"
   ]
  },
  {
   "cell_type": "markdown",
   "metadata": {},
   "source": [
    "Resultat :"
   ]
  },
  {
   "cell_type": "code",
   "execution_count": 68,
   "metadata": {},
   "outputs": [
    {
     "name": "stdout",
     "output_type": "stream",
     "text": [
      "\n",
      "Testfall:\n",
      "=======================================\n",
      "|X| / |S| / |XS| : 40 / 20 / 20\n",
      "=======================================\n",
      "L : [[12], [10], [11, 8], [6, 9], [4, 7], [2, 5], [0, 3]]\n",
      "C : [14, 16, 18, 20, 22, 17, 13, 15, 23, 19, 21]\n",
      "R : [[24], [26], [25, 28], [30, 27], [32, 29], [34, 31], [36, 33], [38]]\n",
      "---------------------------------------\n",
      "|L| / |C| / |R|   : 12 / 11 / 12\n",
      "|L + C + R| / |X| : 35 / 40\n",
      "Discarded         : [1, 35, 37, 38, 39]\n",
      "=======================================\n",
      "cnt : [0, 1, 0, 1, 0, 5, 0, 7, 0, 9, 0, 11, 0, 12, 0, 12, 0, 12, 0, 12, 0, 12, 0, 12, 0, 12, 0, 8, 0, 8, 0, 6, 0, 4, 0, 2, 0, 2, 0, 2]\n",
      "---------------------------------------\n",
      "max(cnt) : 12\n",
      "=======================================\n"
     ]
    }
   ],
   "source": [
    "def test(X, S, XS, L, C, R, cnt):\n",
    "    n, s, xs, l, c, r, sumL, sumR, mx = len(X), len(S), len(XS), len(L), len(C), len(R), 0, 0, max(cnt)\n",
    "\n",
    "    A = []\n",
    "\n",
    "    A += C\n",
    "    for i in range(len(L)):\n",
    "        sumL += len(L[i])\n",
    "        sumR += len(R[i])\n",
    "        A += L[i]\n",
    "        A += R[i]\n",
    "\n",
    "    disc = []\n",
    "    for i in range(n):\n",
    "        if not i in A:\n",
    "            disc.append(i)\n",
    "\n",
    "    print('')\n",
    "    print('Testfall:')\n",
    "    print('=======================================')\n",
    "    print('|X| / |S| / |XS| :', n, '/', s, '/', xs)\n",
    "    print('=======================================')\n",
    "    print('L :', L)\n",
    "    print('C :', C)\n",
    "    print('R :', R)\n",
    "    print('---------------------------------------')\n",
    "    print('|L| / |C| / |R|   :', sumL, '/', c, '/', sumR)\n",
    "    print('|L + C + R| / |X| :', sumL + c + sumR, '/', n)\n",
    "    print('---------------------------------------')\n",
    "    print('Discarded         :', disc)\n",
    "    print('=======================================')\n",
    "    print('cnt :', cnt)\n",
    "    print('---------------------------------------')\n",
    "    print('max(cnt) :', mx)\n",
    "    print('=======================================')\n",
    "    return\n",
    "\n",
    "# Testfall\n",
    "test(X, S, XS, L, C, R, cnt)"
   ]
  },
  {
   "cell_type": "code",
   "execution_count": null,
   "metadata": {},
   "outputs": [],
   "source": []
  },
  {
   "cell_type": "code",
   "execution_count": null,
   "metadata": {},
   "outputs": [],
   "source": []
  },
  {
   "cell_type": "code",
   "execution_count": null,
   "metadata": {},
   "outputs": [],
   "source": []
  }
 ],
 "metadata": {
  "kernelspec": {
   "display_name": "Python 3",
   "language": "python",
   "name": "python3"
  },
  "language_info": {
   "codemirror_mode": {
    "name": "ipython",
    "version": 3
   },
   "file_extension": ".py",
   "mimetype": "text/x-python",
   "name": "python",
   "nbconvert_exporter": "python",
   "pygments_lexer": "ipython3",
   "version": "3.6.5"
  }
 },
 "nbformat": 4,
 "nbformat_minor": 2
}
