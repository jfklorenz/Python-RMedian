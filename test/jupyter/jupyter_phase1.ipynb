{
 "cells": [
  {
   "cell_type": "markdown",
   "metadata": {},
   "source": [
    "RMedian : Phase 1 / Sampling Phase - Test"
   ]
  },
  {
   "cell_type": "code",
   "execution_count": 1,
   "metadata": {},
   "outputs": [],
   "source": [
    "import math\n",
    "import random"
   ]
  },
  {
   "cell_type": "markdown",
   "metadata": {},
   "source": [
    "Testfall :"
   ]
  },
  {
   "cell_type": "code",
   "execution_count": 2,
   "metadata": {},
   "outputs": [],
   "source": [
    "# User input\n",
    "n = 2**10\n",
    "k = 2**9\n",
    "d = 2\n",
    "\n",
    "# Automatic\n",
    "X = [i for i in range(n)]\n",
    "cnt = [0 for _ in range(n)]"
   ]
  },
  {
   "cell_type": "markdown",
   "metadata": {},
   "source": [
    "Algorithmus : Phase 1"
   ]
  },
  {
   "cell_type": "code",
   "execution_count": 3,
   "metadata": {},
   "outputs": [],
   "source": [
    "def phase1(X, k, d):\n",
    "\n",
    "    n = len(X)\n",
    "    random.shuffle(X)\n",
    "    S = X[:k]\n",
    "    XS = X[k:]\n",
    "    S.sort()\n",
    "\n",
    "    if 2*(k*math.log2(n))**0.5 < k/2:\n",
    "        lst = [2*(k*math.log2(n))**0.5]\n",
    "        if 3*(k*math.log2(n))**0.5 < k/2:\n",
    "            lst.append(3*(k*math.log2(n))**0.5)\n",
    "            while d*lst[len(lst) - 1] < k/2:\n",
    "                lst.append(d*lst[len(lst) - 1])\n",
    "        lst.append(k/2)\n",
    "    else:\n",
    "        lst = [k/2]\n",
    "\n",
    "    L = [[] for _ in range(len(lst) - 1)]\n",
    "    R = [[] for _ in range(len(lst) - 1)]\n",
    "    C = []\n",
    "\n",
    "    for s in S[math.floor(k / 2 - lst[0]): math.ceil(k / 2 + lst[0])]:\n",
    "        C.append(s)\n",
    "\n",
    "    for i in range(1, len(lst)):\n",
    "        for s in S[math.floor(k / 2 - lst[i]): math.floor(k / 2 - lst[i - 1])]:\n",
    "            L[i - 1].append(s)\n",
    "        for s in S[math.ceil(k / 2 + lst[i - 1]): math.ceil(k / 2 + lst[i])]:\n",
    "            R[i - 1].append(s)\n",
    "\n",
    "    return S, XS, L, C, R, lst\n",
    "\n",
    "# Testfall\n",
    "S, XS, L, C, R, lst = phase1(X, k, d)"
   ]
  },
  {
   "cell_type": "markdown",
   "metadata": {},
   "source": [
    "Resultat :"
   ]
  },
  {
   "cell_type": "code",
   "execution_count": 4,
   "metadata": {},
   "outputs": [
    {
     "name": "stdout",
     "output_type": "stream",
     "text": [
      "\n",
      "Testfall n / k / d: 1024 / 512 / 2\n",
      "=======================================\n",
      "|S| / |XS|  : 512 / 512\n",
      "---------------------------------------\n",
      "n_i         : [143.11, 214.66, 256.0]\n",
      "=======================================\n",
      "||L|| / |L| : 112 / 2\n",
      "|C|         : 288\n",
      "||R|| / |R| : 112 / 2\n",
      "---------------------------------------\n",
      "|L + C + R| : 512\n",
      "=======================================\n"
     ]
    }
   ],
   "source": [
    "def test(X, k, d, S, XS, L, C, R, lst):\n",
    "    \n",
    "    n, s, xs, l, c, r, sumL, sumR = len(X), len(S), len(XS), len(L), len(C), len(R), 0, 0\n",
    "    \n",
    "    for i in range(len(lst)):\n",
    "        lst[i] = round(lst[i], 2)\n",
    "    \n",
    "    for i in range(len(L)):\n",
    "        sumL += len(L[i])\n",
    "        sumR += len(R[i])\n",
    "    \n",
    "    print('')\n",
    "    print('Testfall n / k / d:', n, '/', k, '/', d)\n",
    "    print('=======================================')\n",
    "    print('|S| / |XS|  :', s, '/', xs)\n",
    "    print('---------------------------------------')\n",
    "    print('n_i         :', lst)\n",
    "    print('=======================================')\n",
    "    print('||L|| / |L| :', sumL, '/', l)\n",
    "    print('|C|         :', c)\n",
    "    print('||R|| / |R| :', sumR, '/', r)\n",
    "    print('---------------------------------------')\n",
    "    print('|L + C + R| :', sumL + c + sumR)\n",
    "    print('=======================================')\n",
    "    return\n",
    "\n",
    "# Testfall\n",
    "test(X, k, d, S, XS, L, C, R, lst)"
   ]
  },
  {
   "cell_type": "code",
   "execution_count": null,
   "metadata": {},
   "outputs": [],
   "source": []
  },
  {
   "cell_type": "code",
   "execution_count": null,
   "metadata": {},
   "outputs": [],
   "source": []
  },
  {
   "cell_type": "code",
   "execution_count": null,
   "metadata": {},
   "outputs": [],
   "source": []
  }
 ],
 "metadata": {
  "kernelspec": {
   "display_name": "Python 3",
   "language": "python",
   "name": "python3"
  },
  "language_info": {
   "codemirror_mode": {
    "name": "ipython",
    "version": 3
   },
   "file_extension": ".py",
   "mimetype": "text/x-python",
   "name": "python",
   "nbconvert_exporter": "python",
   "pygments_lexer": "ipython3",
   "version": "3.6.4"
  }
 },
 "nbformat": 4,
 "nbformat_minor": 2
}
